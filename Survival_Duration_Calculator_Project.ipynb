{
 "cells": [
  {
   "cell_type": "code",
   "execution_count": 7,
   "id": "da2692a2",
   "metadata": {},
   "outputs": [
    {
     "name": "stdout",
     "output_type": "stream",
     "text": [
      "Enter your age: 29\n",
      "Choose Duration of the time units is in:Months,Weeks,Days,Hours,Minutes,Seconds:  days\n",
      "you lived 10585 days\n"
     ]
    }
   ],
   "source": [
    "def Survival_calculate():\n",
    "    age=int(input(\"Enter your age: \"))\n",
    "    time_units=str(input(\"Choose Duration of the time units is in:Months,Weeks,Days,Hours,Minutes,Seconds:  \"))\n",
    "    \n",
    "    months=age*12             \n",
    "    weeks=age*4\n",
    "    days=age*365\n",
    "    hours=age*24\n",
    "    minutes=age*60\n",
    "    seconds=age*60\n",
    "    \n",
    "    if time_units == 'months':\n",
    "        print(f\"you lived {months} months\")\n",
    "    elif time_units == 'weeks':\n",
    "        print(f\"you lived {weeks} weeks\")\n",
    "    elif time_units == 'days':\n",
    "        print(f\"you lived {days} days\")\n",
    "    elif time_units == 'hours':\n",
    "        print(f\"you lived {hours} hours\")\n",
    "    elif time_units == 'minutes':\n",
    "        print(f\"you lived {minutes} minutes\")\n",
    "    elif time_units == 'second':\n",
    "         print(f\"you lived {second} second\") \n",
    "    return\n",
    "Survival_calculate()\n",
    "            \n",
    "    \n",
    "    \n",
    "     \n",
    "\n",
    "    \n",
    "    "
   ]
  },
  {
   "cell_type": "code",
   "execution_count": null,
   "id": "280820c9",
   "metadata": {},
   "outputs": [],
   "source": []
  }
 ],
 "metadata": {
  "kernelspec": {
   "display_name": "Python 3 (ipykernel)",
   "language": "python",
   "name": "python3"
  },
  "language_info": {
   "codemirror_mode": {
    "name": "ipython",
    "version": 3
   },
   "file_extension": ".py",
   "mimetype": "text/x-python",
   "name": "python",
   "nbconvert_exporter": "python",
   "pygments_lexer": "ipython3",
   "version": "3.11.5"
  }
 },
 "nbformat": 4,
 "nbformat_minor": 5
}
